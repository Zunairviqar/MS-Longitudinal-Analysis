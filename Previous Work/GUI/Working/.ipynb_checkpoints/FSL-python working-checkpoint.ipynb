{
 "cells": [
  {
   "cell_type": "code",
   "execution_count": 9,
   "metadata": {},
   "outputs": [],
   "source": [
    "import os\n",
    "from fsl.wrappers import bet"
   ]
  },
  {
   "cell_type": "markdown",
   "metadata": {},
   "source": [
    "# Timepoint 1 Tests"
   ]
  },
  {
   "cell_type": "markdown",
   "metadata": {},
   "source": [
    "## Getting the directory of the files"
   ]
  },
  {
   "cell_type": "code",
   "execution_count": 40,
   "metadata": {},
   "outputs": [],
   "source": [
    "# Entering File Paths\n",
    "TP_1_Flair ='data/TP_1/FLAIR_Ax_5mm_20190808173010_7.nii.gz'\n",
    "TP_1_T1 = 'data/TP_1/T1_Ax_4mm_TSE_20190808173010_9.nii.gz'\n",
    "sample_brain = 'data/Samples/FLAIR_brain_sample.nii.gz'\n",
    "TP_1_Flair_Brain = 'data/TP_1/FLAIR_TP1_Test_Brain'\n",
    "TP_1_T1_Brain = 'data/TP_1/T1_TP1_Test_Brain'\n",
    "resampled_FLAIR_TP1 = 'data/TP_1/resample_FLAIR_TP1_test_to_sample.nii.gz'\n",
    "MNI_Brain = '/usr/local/fsl/data/standard/MNI152_T1_2mm_brain.nii.gz'\n",
    "resampled_FLAIR_TP1_To_MNI = 'data/TP_1/resampled_FLAIR_TP1_test_to_sample_TO_MNI.nii.gz'\n",
    "resampled_FLAIR_TP1_To_MNI_mat = 'data/TP_1/resampled_FLAIR_TP1_test_to_sample_TO_MNI.mat'\n",
    "registration_parameters = '-bins 256 -cost normcorr -searchrx -180 180 -searchry -180 180 -searchrz -180 180 -dof 7  -interp nearestneighbour'\n",
    "TP_1_T1_Brain_To_Resampled_FLAIR = 'data/TP_1/reg_T1_TP1_test_to_resample_FLAIR_TP1.nii.gz'\n",
    "TP_1_T1_Brain_To_Resampled_FLAIR_mat = 'data/TP_1/reg_T1_TP1_test_to_resample_FLAIR_TP1.mat'\n",
    "FLAIR_Lesion_Mask = 'data/TP_1/FLAIR_Lesion_mask.nii.gz'\n",
    "TP_1_Masterfile = 'data/masterfile_TP1.txt'\n",
    "Classifer = 'data/Samples/mytraining'\n",
    "Bianca_output = 'data/TP_1/bianca_output'\n",
    "Bianca_output_bin = 'data/TP_1/bianca_output_bin.nii.gz'\n",
    "Bianca_output_bin_ero_dilM = 'data/TP_1/bianca_output_bin_ero_kernel_box_2_dilM.nii.gz'"
   ]
  },
  {
   "cell_type": "markdown",
   "metadata": {},
   "source": [
    "## Brain Extraction Commands"
   ]
  },
  {
   "cell_type": "code",
   "execution_count": 12,
   "metadata": {},
   "outputs": [],
   "source": [
    "def brain_extract():\n",
    "    bet(TP_1_Flair, TP_1_Flair_Brain)\n",
    "    bet(TP_1_T1, TP_1_T1_Brain)\n",
    "brain_extract()"
   ]
  },
  {
   "cell_type": "markdown",
   "metadata": {},
   "source": [
    "## Resampling the FLAIR Timepoint 1 to Sample Brain"
   ]
  },
  {
   "cell_type": "code",
   "execution_count": 19,
   "metadata": {},
   "outputs": [],
   "source": [
    "# Resampling the FLAIR Timepoint 1 image to the sample brain on which BIANCE was trained\n",
    "x = os.system(f\"flirt -in {TP_1_Flair_Brain} -ref {sample_brain} -out {resampled_FLAIR_TP1} -applyxfm\")"
   ]
  },
  {
   "cell_type": "markdown",
   "metadata": {},
   "source": [
    "## Registering the resampled FLAIR Timepoint 1 to MNI Space for .mat file "
   ]
  },
  {
   "cell_type": "code",
   "execution_count": 27,
   "metadata": {},
   "outputs": [],
   "source": [
    "# Resampling the FLAIR Timepoint 1 image to the sample brain on which BIANCE was trained\n",
    "x = os.system(f\"flirt -in {resampled_FLAIR_TP1} -ref {MNI_Brain} -out {resampled_FLAIR_TP1_To_MNI} -omat {resampled_FLAIR_TP1_To_MNI_mat} {registration_parameters}\")\n"
   ]
  },
  {
   "cell_type": "markdown",
   "metadata": {},
   "source": [
    "## Registering the T1 Timepoint 1 Brain Image to  resampled FLAIR Brain Image"
   ]
  },
  {
   "cell_type": "code",
   "execution_count": 30,
   "metadata": {},
   "outputs": [],
   "source": [
    "# Registering the T1 Timepoint 1 Brain Image to the resampled FLAIR Brain Image for input to BIANCA\n",
    "x = os.system(f\"flirt -in {TP_1_T1_Brain} -ref {resampled_FLAIR_TP1} -out {TP_1_T1_Brain_To_Resampled_FLAIR} -omat {TP_1_T1_Brain_To_Resampled_FLAIR_mat} {registration_parameters}\")\n"
   ]
  },
  {
   "cell_type": "markdown",
   "metadata": {},
   "source": [
    "## Bianca Commands\n"
   ]
  },
  {
   "cell_type": "markdown",
   "metadata": {},
   "source": [
    "## Preparing the Masterfile for BIANCA"
   ]
  },
  {
   "cell_type": "code",
   "execution_count": 45,
   "metadata": {},
   "outputs": [
    {
     "data": {
      "text/plain": [
       "35"
      ]
     },
     "execution_count": 45,
     "metadata": {},
     "output_type": "execute_result"
    }
   ],
   "source": [
    "# Creating the masterfile for BIANCA\n",
    "file = open(TP_1_Masterfile, 'w')\n",
    "file.write(resampled_FLAIR_TP1 + ' ')\n",
    "file.write(TP_1_T1_Brain_To_Resampled_FLAIR + ' ')\n",
    "file.write(resampled_FLAIR_TP1_To_MNI_mat + ' ')\n",
    "file.write(FLAIR_Lesion_Mask + ' ')\n"
   ]
  },
  {
   "cell_type": "markdown",
   "metadata": {},
   "source": [
    "## Running BIANCA Algorithm on the Timpoint 1 Data"
   ]
  },
  {
   "cell_type": "code",
   "execution_count": 46,
   "metadata": {},
   "outputs": [],
   "source": [
    "# Running the BIANCA Command\n",
    "import os\n",
    "x = os.system(f\"bianca --singlefile={TP_1_Masterfile} --loadclassifierdata={Classifer} --querysubjectnum=1 --brainmaskfeaturenum=1 --featuresubset=1,2 --matfeaturenum=3 -o {Bianca_output} -v\")\n"
   ]
  },
  {
   "cell_type": "markdown",
   "metadata": {},
   "source": [
    "## Creating a Binary Mask on the BIANCA Output"
   ]
  },
  {
   "cell_type": "code",
   "execution_count": 49,
   "metadata": {},
   "outputs": [
    {
     "data": {
      "text/plain": [
       "{}"
      ]
     },
     "execution_count": 49,
     "metadata": {},
     "output_type": "execute_result"
    }
   ],
   "source": [
    "import fsl\n",
    "from fsl.wrappers.fslmaths import fslmaths\n",
    "fslmaths(Bianca_output).thr(0.9).bin().run(Bianca_output_bin)"
   ]
  },
  {
   "cell_type": "markdown",
   "metadata": {},
   "source": [
    "## Performing the 'Open' Function on the BIANCA Binary Mask"
   ]
  },
  {
   "cell_type": "code",
   "execution_count": null,
   "metadata": {},
   "outputs": [],
   "source": [
    "import os\n",
    "x = os.system(f\"fslmaths {Bianca_output_bin} -kernel box 2 -ero -dilM {Bianca_output_bin_ero_dilM}\")"
   ]
  },
  {
   "cell_type": "markdown",
   "metadata": {},
   "source": [
    "# END OF TIMEPOINT 1"
   ]
  },
  {
   "cell_type": "markdown",
   "metadata": {},
   "source": []
  },
  {
   "cell_type": "markdown",
   "metadata": {},
   "source": [
    "## Discarded Trials"
   ]
  },
  {
   "cell_type": "code",
   "execution_count": null,
   "metadata": {},
   "outputs": [],
   "source": [
    "from fsl.wrappers.flirt import applyxfm\n",
    "applyxfm('data/TP_1/FLAIR_TP1_Test_Brain', \n",
    "         'data/Samples/FLAIR_brain_sample.nii.gz', \n",
    "         '', \n",
    "         'data/TP_1/resample_FLAIR_TP1_test_to_sample_2.nii.gz', \n",
    "         interp='spline'\n",
    "        )"
   ]
  },
  {
   "cell_type": "code",
   "execution_count": null,
   "metadata": {},
   "outputs": [],
   "source": [
    "# Registering the resampled FLAIR Timepoint 1 Image to MNI Standard Space Brain to obtain the .mat file for BIANCA\n",
    "from fsl.wrappers.flirt import flirt\n",
    "flirt('data/TP_1/resample_FLAIR_TP1_test_to_sample.nii.gz',\n",
    "    '/usr/local/fsl/data/standard/MNI152_T1_2mm_brain.nii.gz',\n",
    "    out= 'data/TP_1/resampled_FLAIR_TP1_test_to_sample_TO_MNI.nii.gz',\n",
    "    omat= 'data/TP_1/resampled_FLAIR_TP1_test_to_sample_TO_MNI.mat',\n",
    "    bins= '256',\n",
    "    cost= 'normcorr',\n",
    "    dof= '7',\n",
    "    interp= 'nearestneighbour')"
   ]
  },
  {
   "cell_type": "code",
   "execution_count": null,
   "metadata": {},
   "outputs": [],
   "source": [
    "# Registering the T1 Timepoint 1 Brain Image to the resampled FLAIR Brain Image for input to BIANCA\n",
    "from fsl.wrappers.flirt import flirt\n",
    "flirt('data/TP_1/T1_TP1_Test_Brain.nii.gz',\n",
    "    'data/TP_1/resample_FLAIR_TP1_test_to_sample.nii.gz',\n",
    "    out= 'data/TP_1/reg_T1_TP1_test_to_resample_FLAIR_TP1.nii.gz',\n",
    "    omat= 'data/TP_1/reg_T1_TP1_test_to_resample_FLAIR_TP1.mat',\n",
    "    bins= '256',\n",
    "    cost= 'normcorr',\n",
    "    dof= '7',\n",
    "    interp= 'nearestneighbour')"
   ]
  }
 ],
 "metadata": {
  "kernelspec": {
   "display_name": "Python 3",
   "language": "python",
   "name": "python3"
  },
  "language_info": {
   "codemirror_mode": {
    "name": "ipython",
    "version": 3
   },
   "file_extension": ".py",
   "mimetype": "text/x-python",
   "name": "python",
   "nbconvert_exporter": "python",
   "pygments_lexer": "ipython3",
   "version": "3.8.5"
  }
 },
 "nbformat": 4,
 "nbformat_minor": 4
}
