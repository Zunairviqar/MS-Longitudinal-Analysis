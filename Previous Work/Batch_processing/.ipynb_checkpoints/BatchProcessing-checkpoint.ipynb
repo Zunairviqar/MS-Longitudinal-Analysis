{
 "cells": [
  {
   "cell_type": "code",
   "execution_count": 97,
   "metadata": {},
   "outputs": [],
   "source": [
    "import os\n",
    "from fsl.wrappers import bet\n",
    "import os\n",
    "from fsl.wrappers.fslmaths import fslmaths"
   ]
  },
  {
   "cell_type": "markdown",
   "metadata": {},
   "source": [
    "## Read the Text File with the list of subjects"
   ]
  },
  {
   "cell_type": "code",
   "execution_count": 112,
   "metadata": {},
   "outputs": [
    {
     "name": "stdout",
     "output_type": "stream",
     "text": [
      "['subject01_tp1', 'subject01_tp2', 'subject05_tp1', 'subject05_tp2', 'subject05_tp3']\n"
     ]
    }
   ],
   "source": [
    "subjects_file = open('MS_study/subject_list.txt', 'r')\n",
    "subjects = subjects_file.readlines()\n",
    "for i in range(len(subjects)):\n",
    "    subjects[i] = subjects[i].replace('\\n', '')\n",
    "\n",
    "print(subjects)\n",
    "subjects_file.close()"
   ]
  },
  {
   "cell_type": "markdown",
   "metadata": {},
   "source": [
    "## Managing the Paths to obtain and store files"
   ]
  },
  {
   "cell_type": "code",
   "execution_count": 21,
   "metadata": {},
   "outputs": [
    {
     "name": "stdout",
     "output_type": "stream",
     "text": [
      "/Users/zunairviqar/Desktop/NYUAD/MRI_Work/Batch_processing/MS_study\n"
     ]
    }
   ],
   "source": [
    "x = os.getcwdb()\n",
    "y = str(x).replace(\"b'\", '')\n",
    "z = y.replace(\"'\", '') + '/MS_study'\n",
    "print(z)"
   ]
  },
  {
   "cell_type": "code",
   "execution_count": 30,
   "metadata": {},
   "outputs": [
    {
     "name": "stdout",
     "output_type": "stream",
     "text": [
      "/Users/zunairviqar/Desktop/NYUAD/MRI_Work/Batch_processing/MS_study/subject01_tp1\n",
      "['FLAIR_Ax_5mm_20190808173010_7.nii.gz', 'T1_Ax_4mm_TSE_20190808173010_9.nii.gz']\n"
     ]
    }
   ],
   "source": [
    "path = os.path.join(z, subjects[0])\n",
    "files = os.listdir(path) # returns list\n",
    "print(files)"
   ]
  },
  {
   "cell_type": "code",
   "execution_count": 44,
   "metadata": {},
   "outputs": [],
   "source": [
    "for i in files:\n",
    "    if 'FLAIR' in i:\n",
    "        FLAIR = str(path) + '/' + str(i)\n",
    "    elif 'T1' in i:\n",
    "        T1 = str(path) + '/' + str(i)"
   ]
  },
  {
   "cell_type": "code",
   "execution_count": 43,
   "metadata": {},
   "outputs": [
    {
     "name": "stdout",
     "output_type": "stream",
     "text": [
      "/Users/zunairviqar/Desktop/NYUAD/MRI_Work/Batch_processing/MS_study/subject01_tp1/FLAIR_Ax_5mm_20190808173010_7.nii.gz\n",
      "/Users/zunairviqar/Desktop/NYUAD/MRI_Work/Batch_processing/MS_study/subject01_tp1/T1_Ax_4mm_TSE_20190808173010_9.nii.gz\n"
     ]
    }
   ],
   "source": [
    "print(FLAIR)\n",
    "print(T1)"
   ]
  },
  {
   "cell_type": "markdown",
   "metadata": {},
   "source": [
    "## Listing other directory path for being fed into the function calls"
   ]
  },
  {
   "cell_type": "code",
   "execution_count": 103,
   "metadata": {},
   "outputs": [],
   "source": [
    "Flair_Brain = 'MS_study/' + subjects[0] + '/FLAIR_Test_Brain.nii.gz' \n",
    "T1_Brain = 'MS_study/' + subjects[0] + '/T1_TP1_Test_Brain'\n",
    "\n",
    "sample_brain = 'data/Samples/FLAIR_brain_sample.nii.gz'\n",
    "resampled_FLAIR = 'MS_study/' + subjects[0] + '/resample_FLAIR_TP1_test_to_sample.nii.gz'\n",
    "MNI_Brain = '/usr/local/fsl/data/standard/MNI152_T1_2mm_brain.nii.gz'\n",
    "\n",
    "resampled_FLAIR_To_MNI = 'MS_study/' + subjects[0] + '/resampled_FLAIR_TP1_test_to_sample_TO_MNI.nii.gz'\n",
    "resampled_FLAIR_To_MNI_mat = 'MS_study/' + subjects[0] + '/resampled_FLAIR_TP1_test_to_sample_TO_MNI.mat'\n",
    "\n",
    "registration_parameters = '-bins 256 -cost normcorr -searchrx -180 180 -searchry -180 180 -searchrz -180 180 -dof 7  -interp nearestneighbour'\n",
    "\n",
    "T1_Brain_To_Resampled_FLAIR = 'MS_study/' + subjects[0] + '/reg_T1_TP1_test_to_resample_FLAIR_TP1.nii.gz'\n",
    "T1_Brain_To_Resampled_FLAIR_mat = 'MS_study/' + subjects[0] + '/reg_T1_TP1_test_to_resample_FLAIR_TP1.mat'\n",
    "\n",
    "FLAIR_Lesion_Mask = 'MS_study/' + subjects[0] + '/FLAIR_Lesion_mask.nii.gz'\n",
    "Masterfile = 'MS_study/' + subjects[0] + '/masterfile_TP1.txt'\n",
    "\n",
    "Classifer = 'data/Samples/mytraining'\n",
    "Bianca_output = 'MS_study/' + subjects[0] + '/bianca_output'\n",
    "Bianca_output_bin = 'MS_study/' + subjects[0] + '/bianca_output_bin.nii.gz'\n",
    "Bianca_output_bin_ero_dilM = 'MS_study/' + subjects[0] + '/bianca_output_bin_ero_kernel_box_2_dilM.nii.gz'"
   ]
  },
  {
   "cell_type": "markdown",
   "metadata": {},
   "source": [
    "## Individual Functions for a specific subjects"
   ]
  },
  {
   "cell_type": "code",
   "execution_count": 70,
   "metadata": {},
   "outputs": [],
   "source": [
    "def brain_extract():\n",
    "    bet(FLAIR, Flair_Brain)\n",
    "    bet(T1,T1_Brain)\n",
    "brain_extract()"
   ]
  },
  {
   "cell_type": "code",
   "execution_count": 89,
   "metadata": {},
   "outputs": [],
   "source": [
    "def resample_flair():\n",
    "    x = os.system(f\"flirt -in {Flair_Brain} -ref {sample_brain} -out {resampled_FLAIR} -interp -nearestneighbour -dof 6\")\n",
    "    \n",
    "resample_flair()"
   ]
  },
  {
   "cell_type": "code",
   "execution_count": null,
   "metadata": {},
   "outputs": [],
   "source": [
    "f\"flirt -in FLAIR_Test_Brain.nii.gz -ref FLAIR_brain_sample.nii.gz -out resample_FLAIR_TP1_test_to_sample.nii.gz -applyxfm\""
   ]
  },
  {
   "cell_type": "code",
   "execution_count": 92,
   "metadata": {},
   "outputs": [],
   "source": [
    "def register_to_MNI():\n",
    "    x = os.system(\n",
    "        f\"flirt -in {resampled_FLAIR} -ref {MNI_Brain} -out {resampled_FLAIR_To_MNI} -omat {resampled_FLAIR_To_MNI_mat} {registration_parameters}\")\n",
    "register_to_MNI()"
   ]
  },
  {
   "cell_type": "code",
   "execution_count": 94,
   "metadata": {},
   "outputs": [],
   "source": [
    "def register_t1_to_flair():\n",
    "    x = os.system(\n",
    "        f\"flirt -in {T1_Brain} -ref {resampled_FLAIR} -out {T1_Brain_To_Resampled_FLAIR} -omat {T1_Brain_To_Resampled_FLAIR_mat} {registration_parameters}\")\n",
    "register_t1_to_flair()"
   ]
  },
  {
   "cell_type": "code",
   "execution_count": 98,
   "metadata": {},
   "outputs": [],
   "source": [
    "def generate_masterfile():\n",
    "    file = open(Masterfile, 'w')\n",
    "    file.write(resampled_FLAIR + ' ')\n",
    "    file.write(T1_Brain_To_Resampled_FLAIR + ' ')\n",
    "    file.write(resampled_FLAIR_To_MNI_mat + ' ')\n",
    "    file.write(FLAIR_Lesion_Mask + ' ')\n",
    "generate_masterfile()"
   ]
  },
  {
   "cell_type": "code",
   "execution_count": 100,
   "metadata": {},
   "outputs": [],
   "source": [
    "def run_bianca():\n",
    "    x = os.system(\n",
    "        f\"bianca --singlefile={Masterfile} --loadclassifierdata={Classifer} --querysubjectnum=1 --brainmaskfeaturenum=1 --featuresubset=1,2 --matfeaturenum=3 -o {Bianca_output} -v\")\n",
    "run_bianca()\n"
   ]
  },
  {
   "cell_type": "code",
   "execution_count": 110,
   "metadata": {},
   "outputs": [],
   "source": [
    "def bianca_binary():\n",
    "    fslmaths(Bianca_output).thr(0.9).bin().run(Bianca_output_bin)\n",
    "bianca_binary()"
   ]
  },
  {
   "cell_type": "code",
   "execution_count": 111,
   "metadata": {},
   "outputs": [],
   "source": [
    "def bianca_open():\n",
    "    x = os.system(f\"fslmaths {Bianca_output_bin} -kernel box 2 -ero -dilM {Bianca_output_bin_ero_dilM}\")\n",
    "bianca_open()"
   ]
  },
  {
   "cell_type": "markdown",
   "metadata": {},
   "source": [
    "# Combining the above code to loop through the all the subjects"
   ]
  },
  {
   "cell_type": "code",
   "execution_count": 133,
   "metadata": {},
   "outputs": [],
   "source": [
    "subjects_file = open('MS_study/subject_list.txt', 'r')\n",
    "subjects = subjects_file.readlines()\n",
    "for i in range(len(subjects)):\n",
    "    subjects[i] = subjects[i].replace('\\n', '')\n",
    "subjects_file.close()"
   ]
  },
  {
   "cell_type": "code",
   "execution_count": 134,
   "metadata": {},
   "outputs": [
    {
     "name": "stdout",
     "output_type": "stream",
     "text": [
      "/Users/zunairviqar/Desktop/NYUAD/MRI_Work/Batch_processing/MS_study\n"
     ]
    }
   ],
   "source": [
    "x = os.getcwdb()\n",
    "y = str(x).replace(\"b'\", '')\n",
    "z = y.replace(\"'\", '') + '/MS_study'\n",
    "print(z)"
   ]
  },
  {
   "cell_type": "markdown",
   "metadata": {},
   "source": [
    "## Phase 1 Processing"
   ]
  },
  {
   "cell_type": "code",
   "execution_count": 155,
   "metadata": {},
   "outputs": [
    {
     "name": "stdout",
     "output_type": "stream",
     "text": [
      "subject01_tp1HEREE\n",
      "MS_study/subject01_tp1/FLAIR_Test_Brain.nii.gz  HEREE\n",
      "['FLAIR_Ax_5mm_20190808173010_7.nii.gz', '.DS_Store', 'T1_Ax_4mm_TSE_20190808173010_9.nii.gz']\n",
      "/Users/zunairviqar/Desktop/NYUAD/MRI_Work/Batch_processing/MS_study/subject01_tp1/FLAIR_Ax_5mm_20190808173010_7.nii.gz\n",
      "/Users/zunairviqar/Desktop/NYUAD/MRI_Work/Batch_processing/MS_study/subject01_tp1/T1_Ax_4mm_TSE_20190808173010_9.nii.gz\n",
      "\n",
      "\n",
      "subject01_tp2HEREE\n",
      "MS_study/subject01_tp2/FLAIR_Test_Brain.nii.gz  HEREE\n",
      "['.DS_Store', 'FLAIR_Ax_5mm_20210121173408_3.nii.gz', 'T1_Ax_4mm_+-_contrast_20210121173408_10.nii.gz']\n",
      "/Users/zunairviqar/Desktop/NYUAD/MRI_Work/Batch_processing/MS_study/subject01_tp2/FLAIR_Ax_5mm_20210121173408_3.nii.gz\n",
      "/Users/zunairviqar/Desktop/NYUAD/MRI_Work/Batch_processing/MS_study/subject01_tp2/T1_Ax_4mm_+-_contrast_20210121173408_10.nii.gz\n",
      "\n",
      "\n",
      "subject05_tp1HEREE\n",
      "MS_study/subject05_tp1/FLAIR_Test_Brain.nii.gz  HEREE\n",
      "['FLAIR_Ax_5mm_20190808173010_7.nii.gz', 'T1_Ax_4mm_TSE_20190808173010_9.nii.gz']\n",
      "/Users/zunairviqar/Desktop/NYUAD/MRI_Work/Batch_processing/MS_study/subject05_tp1/FLAIR_Ax_5mm_20190808173010_7.nii.gz\n",
      "/Users/zunairviqar/Desktop/NYUAD/MRI_Work/Batch_processing/MS_study/subject05_tp1/T1_Ax_4mm_TSE_20190808173010_9.nii.gz\n",
      "\n",
      "\n",
      "subject05_tp2HEREE\n",
      "MS_study/subject05_tp2/FLAIR_Test_Brain.nii.gz  HEREE\n",
      "['FLAIR_Ax_5mm_20210121173408_3.nii.gz', 'T1_Ax_4mm_+-_contrast_20210121173408_10.nii.gz']\n",
      "/Users/zunairviqar/Desktop/NYUAD/MRI_Work/Batch_processing/MS_study/subject05_tp2/FLAIR_Ax_5mm_20210121173408_3.nii.gz\n",
      "/Users/zunairviqar/Desktop/NYUAD/MRI_Work/Batch_processing/MS_study/subject05_tp2/T1_Ax_4mm_+-_contrast_20210121173408_10.nii.gz\n",
      "\n",
      "\n",
      "subject05_tp3HEREE\n",
      "MS_study/subject05_tp3/FLAIR_Test_Brain.nii.gz  HEREE\n",
      "['FLAIR_Ax_5mm_20210121173408_3.nii.gz', 'T1_Ax_4mm_+-_contrast_20210121173408_10.nii.gz']\n",
      "/Users/zunairviqar/Desktop/NYUAD/MRI_Work/Batch_processing/MS_study/subject05_tp3/FLAIR_Ax_5mm_20210121173408_3.nii.gz\n",
      "/Users/zunairviqar/Desktop/NYUAD/MRI_Work/Batch_processing/MS_study/subject05_tp3/T1_Ax_4mm_+-_contrast_20210121173408_10.nii.gz\n",
      "\n",
      "\n"
     ]
    }
   ],
   "source": [
    "for i in range(len(subjects)):\n",
    "    \n",
    "    path = os.path.join(z, subjects[i])\n",
    "    files = os.listdir(path) # returns list\n",
    "    \n",
    "    for f in files:\n",
    "        if 'FLAIR' in f:\n",
    "            FLAIR = str(path) + '/' + str(f)\n",
    "        elif 'T1' in f:\n",
    "            T1 = str(path) + '/' + str(f)\n",
    "    print(files)\n",
    "    print(FLAIR)\n",
    "    print(T1)\n",
    "    print('\\n')\n",
    "    \n",
    "\n",
    "    Flair_Brain = 'MS_study/' + subjects[i] + '/FLAIR_Test_Brain.nii.gz' \n",
    "    T1_Brain = 'MS_study/' + subjects[i] + '/T1_TP1_Test_Brain'\n",
    "\n",
    "    sample_brain = 'data/Samples/FLAIR_brain_sample.nii.gz'\n",
    "    resampled_FLAIR = 'MS_study/' + subjects[i] + '/resample_FLAIR_TP1_test_to_sample.nii.gz'\n",
    "    MNI_Brain = '/usr/local/fsl/data/standard/MNI152_T1_2mm_brain.nii.gz'\n",
    "\n",
    "    resampled_FLAIR_To_MNI = 'MS_study/' + subjects[i] + '/resampled_FLAIR_TP1_test_to_sample_TO_MNI.nii.gz'\n",
    "    resampled_FLAIR_To_MNI_mat = 'MS_study/' + subjects[i] + '/resampled_FLAIR_TP1_test_to_sample_TO_MNI.mat'\n",
    "\n",
    "    registration_parameters = '-bins 256 -cost normcorr -searchrx -180 180 -searchry -180 180 -searchrz -180 180 -dof 7  -interp nearestneighbour'\n",
    "\n",
    "    T1_Brain_To_Resampled_FLAIR = 'MS_study/' + subjects[i] + '/reg_T1_TP1_test_to_resample_FLAIR_TP1.nii.gz'\n",
    "    T1_Brain_To_Resampled_FLAIR_mat = 'MS_study/' + subjects[i] + '/reg_T1_TP1_test_to_resample_FLAIR_TP1.mat'\n",
    "\n",
    "    FLAIR_Lesion_Mask = 'MS_study/' + subjects[i] + '/FLAIR_Lesion_mask.nii.gz'\n",
    "    Masterfile = 'MS_study/' + subjects[i] + '/masterfile_TP1.txt'\n",
    "\n",
    "    Classifer = 'data/Samples/mytraining'\n",
    "    Bianca_output = 'MS_study/' + subjects[i] + '/bianca_output'\n",
    "    Bianca_output_bin = 'MS_study/' + subjects[i] + '/bianca_output_bin.nii.gz'\n",
    "    Bianca_output_bin_ero_dilM = 'MS_study/' + subjects[i] + '/bianca_output_bin_ero_kernel_box_2_dilM.nii.gz'\n",
    "    \n",
    "    \n",
    "    brain_extract()\n",
    "    resample_flair()\n",
    "    register_to_MNI()\n",
    "    register_t1_to_flair()\n",
    "    generate_masterfile()\n",
    "    run_bianca()\n",
    "    bianca_binary()\n",
    "    bianca_open()"
   ]
  },
  {
   "cell_type": "markdown",
   "metadata": {},
   "source": [
    "# Phase 2 Processing"
   ]
  },
  {
   "cell_type": "markdown",
   "metadata": {},
   "source": [
    "## Reading data from the Longitudinal.txt file"
   ]
  },
  {
   "cell_type": "code",
   "execution_count": 156,
   "metadata": {},
   "outputs": [],
   "source": [
    "long_file = open('MS_study/longitudinal_list.txt', 'r')\n",
    "longs = long_file.readlines()\n",
    "for i in range(len(longs)):\n",
    "    longs[i] = longs[i].replace('\\n', '')\n",
    "long_file.close()"
   ]
  },
  {
   "cell_type": "markdown",
   "metadata": {},
   "source": [
    "## Obtaining the current working directory to create a path "
   ]
  },
  {
   "cell_type": "code",
   "execution_count": 209,
   "metadata": {},
   "outputs": [
    {
     "name": "stdout",
     "output_type": "stream",
     "text": [
      "['subject01', 'subject05']\n",
      "/Users/zunairviqar/Desktop/NYUAD/MRI_Work/Batch_processing/MS_study\n"
     ]
    }
   ],
   "source": [
    "print(longs)\n",
    "x = os.getcwdb()\n",
    "y = str(x).replace(\"b'\", '')\n",
    "z = y.replace(\"'\", '')+ '/MS_study'\n",
    "print(z)"
   ]
  },
  {
   "cell_type": "markdown",
   "metadata": {},
   "source": [
    "## Creating folder to store data for the longitudinal analysis"
   ]
  },
  {
   "cell_type": "code",
   "execution_count": 210,
   "metadata": {},
   "outputs": [],
   "source": [
    "for i in range(len(longs)):\n",
    "    path = os.path.join(z, longs[i])\n",
    "    try:\n",
    "        os.mkdir(path)\n",
    "    except OSError as error:\n",
    "        print(error)"
   ]
  },
  {
   "cell_type": "code",
   "execution_count": 163,
   "metadata": {},
   "outputs": [
    {
     "name": "stdout",
     "output_type": "stream",
     "text": [
      "['.DS_Store', 'longitudinal_list.txt', 'subject05_tp3', 'subject05_tp2', 'subject01_tp2', 'subject05_tp1', 'subject01_tp1', 'subject_list.txt']\n"
     ]
    }
   ],
   "source": [
    "path = os.path.join(z, '')\n",
    "files = os.listdir(path) # returns list\n",
    "print(files)"
   ]
  },
  {
   "cell_type": "markdown",
   "metadata": {},
   "source": [
    "## Gets the entire list of folders with for the subjects in longitudinal file"
   ]
  },
  {
   "cell_type": "code",
   "execution_count": 237,
   "metadata": {},
   "outputs": [
    {
     "name": "stdout",
     "output_type": "stream",
     "text": [
      "[['subject01_tp2', 'subject01_tp1'], ['subject05_tp3', 'subject05_tp2', 'subject05_tp1']]\n"
     ]
    }
   ],
   "source": [
    "folders = []\n",
    "for i in range(len(longs)):\n",
    "    folder = []\n",
    "    for j in range(len(files)):\n",
    "        if longs[i] in files[j]:\n",
    "            folder.append(files[j])\n",
    "    folders.append(folder)\n",
    "print(folders)"
   ]
  },
  {
   "cell_type": "markdown",
   "metadata": {},
   "source": [
    "## Refines the folders to only focus on the latest and the oldest timepoints"
   ]
  },
  {
   "cell_type": "code",
   "execution_count": 238,
   "metadata": {},
   "outputs": [
    {
     "name": "stdout",
     "output_type": "stream",
     "text": [
      "[['subject01_tp2', 'subject01_tp1'], ['subject05_tp3', 'subject05_tp1']]\n"
     ]
    }
   ],
   "source": [
    "subj_folders = []\n",
    "for i in range(len(folders)):\n",
    "    if len(folders[i]) == 2:\n",
    "        subj_folders.append(folders[i])\n",
    "    else:\n",
    "        subj_folders.append([folders[i][0], folders[i][-1]])\n",
    "print(subj_folders)"
   ]
  },
  {
   "cell_type": "markdown",
   "metadata": {},
   "source": [
    "## Combining the above along with the computation"
   ]
  },
  {
   "cell_type": "code",
   "execution_count": 236,
   "metadata": {},
   "outputs": [
    {
     "name": "stdout",
     "output_type": "stream",
     "text": [
      "['subject01_tp2', 'subject01_tp1']\n",
      "['subject05_tp3', 'subject05_tp1']\n"
     ]
    }
   ],
   "source": [
    "for i in range(len(subj_folders)):    \n",
    "    Bianca_output_bin_ero_dilM_2 = 'MS_study/' + subj_folders[i][0] + '/bianca_output_bin_ero_kernel_box_2_dilM.nii.gz'\n",
    "    Bianca_output_bin_ero_dilM_1 = 'MS_study/' + subj_folders[i][1] + '/bianca_output_bin_ero_kernel_box_2_dilM.nii.gz'\n",
    "    foldr = subj_folders[i][0].split('_')[0]\n",
    "    \n",
    "    x = os.system(\n",
    "        f\"fslmaths {Bianca_output_bin_ero_dilM_2} -sub {Bianca_output_bin_ero_dilM_1} MS_study/{foldr}/New_lesion_mask.nii.gz\")\n",
    "    \n",
    "    x = os.system(\n",
    "        f\"fslmaths {Bianca_output_bin_ero_dilM_2} -add {Bianca_output_bin_ero_dilM_1} MS_study/{foldr}/Total_lesion_mask.nii.gz\")\n",
    "    \n",
    "    x = os.system(\n",
    "        f\"fslmaths {Bianca_output_bin_ero_dilM} -sub {Bianca_output_bin_ero_dilM_1} MS_study/{foldr}/Old_lesion_mask.nii.gz\")\n",
    "    "
   ]
  }
 ],
 "metadata": {
  "kernelspec": {
   "display_name": "Python 3",
   "language": "python",
   "name": "python3"
  },
  "language_info": {
   "codemirror_mode": {
    "name": "ipython",
    "version": 3
   },
   "file_extension": ".py",
   "mimetype": "text/x-python",
   "name": "python",
   "nbconvert_exporter": "python",
   "pygments_lexer": "ipython3",
   "version": "3.8.5"
  }
 },
 "nbformat": 4,
 "nbformat_minor": 4
}
